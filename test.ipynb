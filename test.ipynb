{
 "cells": [
  {
   "cell_type": "code",
   "execution_count": null,
   "metadata": {},
   "outputs": [],
   "source": [
    "import requests\n",
    "import json\n",
    "\n",
    "creds_file = json.load(open('creds.json'))\n",
    "\n",
    "payload = {\n",
    "    \"key\" : creds_file['key'],\n",
    "    \"q\" : \"cats\"\n",
    "}\n",
    "\n",
    "req = requests.get(\"http://brooklynmuseum.org/api/something\", params=payload)\n",
    "\n",
    "\n",
    "print(\"Hello Git!\")"
   ]
  }
 ],
 "metadata": {
  "language_info": {
   "name": "python"
  }
 },
 "nbformat": 4,
 "nbformat_minor": 2
}
